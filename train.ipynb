{
 "cells": [
  {
   "cell_type": "markdown",
   "metadata": {},
   "source": [
    "** A faire :  \n",
    "Dataloader pour mini batch -->   \n",
    "utiliser adam optimizer  \n",
    "learning rate hypermarametre  \n",
    "weight decay = False  \n",
    "num_epochs = entrainement sur tou minibatch : plombes  \n",
    "\n",
    "for batch in batches:\n",
    "    for epoch in range(num_epochs):\n",
    "        dataloader"
   ]
  },
  {
   "cell_type": "markdown",
   "metadata": {},
   "source": []
  },
  {
   "cell_type": "code",
   "execution_count": null,
   "metadata": {},
   "outputs": [],
   "source": [
    "def dataloader():\n",
    "    "
   ]
  }
 ],
 "metadata": {
  "kernelspec": {
   "display_name": "base",
   "language": "python",
   "name": "python3"
  },
  "language_info": {
   "name": "python",
   "version": "3.11.5"
  }
 },
 "nbformat": 4,
 "nbformat_minor": 2
}
