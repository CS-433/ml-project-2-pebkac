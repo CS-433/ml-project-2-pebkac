{
 "cells": [
  {
   "cell_type": "markdown",
   "metadata": {},
   "source": [
    "** A faire :  \n",
    "Dataloader pour mini batch -->   \n",
    "utiliser adam optimizer  \n",
    "learning rate hypermarametre  \n",
    "weight decay = False  \n",
    "num_epochs = entrainement sur tou minibatch : plombes  \n",
    "\n",
    "for batch in batches:\n",
    "    for epoch in range(num_epochs):\n",
    "        dataloader"
   ]
  },
  {
   "cell_type": "markdown",
   "metadata": {},
   "source": []
  },
  {
   "cell_type": "code",
   "execution_count": null,
   "metadata": {},
   "outputs": [],
   "source": [
    "import torch\n",
    "import torch.optim as optim\n",
    "import Dataset\n",
    "import Transformer"
   ]
  },
  {
   "cell_type": "code",
   "execution_count": null,
   "metadata": {},
   "outputs": [],
   "source": []
  },
  {
   "cell_type": "code",
   "execution_count": null,
   "metadata": {},
   "outputs": [],
   "source": [
    "def train_model(model, list_ids, file_path, num_epoch, **params):\n",
    "\n",
    "    # CUDA for PyTorch\n",
    "    use_cuda = torch.cuda.is_available()\n",
    "    device = torch.device(\"cuda:0\" if use_cuda else \"cpu\")\n",
    "    torch.backends.cudnn.benchmark = True\n",
    "    \n",
    "    # Loads the data\n",
    "    training_set = Dataset(list_ids, file_path)\n",
    "\n",
    "    # Generates the batches\n",
    "    training_generator = torch.utils.data.Dataloader(training_set, **params)\n",
    "\n",
    "    # Sets the adam optimizer\n",
    "    optimizer = optim.Adam(model.parameters(), lr=0.001)\n",
    "\n",
    "    for epoch in range(num_epoch):\n",
    "        running_loss = 0.0\n",
    "        for local_batch, local_labels in training_generator:\n",
    "            # Transfer to GPU\n",
    "            local_batch, local_labels = local_batch.to(device), local_labels.to(device)\n",
    "\n",
    "            optimizer.zero_grad()\n",
    "\n",
    "            # Forward pass\n",
    "            outputs = model(local_batch)\n",
    "\n",
    "            # Compute loss\n",
    "            loss = model.loss(local_batch, local_labels) ## problem should be local weights but i am not sure about dataloader work\n",
    "\n",
    "            # Backward pass\n",
    "            loss.backward()\n",
    "\n",
    "            # Optimize\n",
    "            optimizer.step()\n",
    "\n",
    "            # Track loss\n",
    "            running_loss += loss.item()\n",
    "    return model"
   ]
  }
 ],
 "metadata": {
  "kernelspec": {
   "display_name": "base",
   "language": "python",
   "name": "python3"
  },
  "language_info": {
   "name": "python",
   "version": "3.11.5"
  }
 },
 "nbformat": 4,
 "nbformat_minor": 2
}
